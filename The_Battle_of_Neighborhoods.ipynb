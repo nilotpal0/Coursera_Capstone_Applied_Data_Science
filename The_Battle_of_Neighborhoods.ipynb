{
 "cells": [
  {
   "cell_type": "markdown",
   "metadata": {},
   "source": [
    "# Capstone Project - The Battle of Neighborhoods:\n",
    "## **Title: Crop Production Data Analysis and Trends Visualization of India**"
   ]
  },
  {
   "cell_type": "markdown",
   "metadata": {},
   "source": [
    "![image.png](crop_front.jpg)"
   ]
  },
  {
   "cell_type": "markdown",
   "metadata": {},
   "source": [
    "### **Question 1:** \n",
    "   Clearly define a problem or an idea of your choice, where you would need to leverage the Foursquare location data to solve or execute. Remember that data science problems always target an audience and are meant to help a group of stakeholders solve a problem, so make sure that you explicitly describe your audience and why they would care about your problem.\n",
    "   \n",
    "### **Answer 1:** \n",
    "   **To provide the necessary information visualization to companies or different crop processing factories, I'll analyse the crop production datas of india in different region with Foursquare API.**\n",
    "\n",
    "\n",
    "."
   ]
  },
  {
   "cell_type": "markdown",
   "metadata": {},
   "source": [
    "### **Question 2:**\n",
    "   Describe the data that you will be using to solve the problem or execute your idea. Remember that you will need to use the Foursquare location data to solve the problem or execute your idea. You can absolutely use other datasets in combination with the Foursquare location data. So make sure that you provide adequate explanation and discussion, with examples, of the data that you will be using, even if it is only Foursquare location data.\n",
    "   \n",
    "### **Answer 2:**\n",
    "   **For this project I will use Kaggle crop production dataset(https://www.kaggle.com/divyosmi2009/crop-production-in-india-statevise?select=crop_production.csv) which contains more than 2,00,000 data rows with the detailed information of crop production in India with respect to defferent region and year.**\n",
    "   \n",
    "| Year |%Data|\n",
    "| ---- |----:|\n",
    "| 1997 | Min |\n",
    "| 2002 | 25% |\n",
    "| 2006 | 50% |\n",
    "| 2010 | 75% |\n",
    "| 2015 | Max |\n",
    "\n",
    "\n"
   ]
  },
  {
   "cell_type": "markdown",
   "metadata": {},
   "source": [
    "***\n",
    "## **A. Data Preparation**"
   ]
  },
  {
   "cell_type": "markdown",
   "metadata": {},
   "source": [
    "### 1. Import all the necessory module and libraries:"
   ]
  },
  {
   "cell_type": "code",
   "execution_count": 1,
   "metadata": {},
   "outputs": [],
   "source": [
    "import numpy as np # library to handle data in a vectorized manner\n",
    "import pandas as pd # library for data analsysis\n",
    "\n",
    "import json # library to handle JSON files\n",
    "\n",
    "#!conda install -c conda-forge geopy --yes\n",
    "from geopy.geocoders import Nominatim # convert an address into latitude and longitude values\n",
    "\n",
    "import requests # library to handle requests\n",
    "\n",
    "#!conda install -c conda-forge beautifulsoup4 --yes\n",
    "from bs4 import BeautifulSoup\n",
    "\n",
    "\n",
    "import pandas as pd\n",
    "from pandas.io.json import json_normalize # tranform JSON file into a pandas dataframe\n",
    "\n",
    "import matplotlib.pyplot as plt\n",
    "import matplotlib.cm as cm\n",
    "import matplotlib.colors as colors\n",
    "\n",
    "#!conda install -c anaconda seaborn --yes\n",
    "import seaborn as sns; sns.set(color_codes=True)\n",
    "\n",
    "# import k-means from clustering stage\n",
    "from sklearn.cluster import KMeans\n",
    "\n",
    "import folium # map rendering library\n",
    "import branca.colormap as cl"
   ]
  },
  {
   "cell_type": "code",
   "execution_count": 2,
   "metadata": {},
   "outputs": [],
   "source": [
    "#importing Ipython libraries\n",
    "from __future__ import print_function\n",
    "from ipywidgets import interact, interactive, fixed, interact_manual\n",
    "import ipywidgets as widgets"
   ]
  },
  {
   "cell_type": "markdown",
   "metadata": {},
   "source": [
    "### 2. Reading Raw data from downloaded csv file:\n",
    "   https://www.kaggle.com/divyosmi2009/crop-production-in-india-statevise?select=crop_production.csv\n",
    "   <br>loading full dataset using pandas from the above file.</br>"
   ]
  },
  {
   "cell_type": "code",
   "execution_count": 3,
   "metadata": {},
   "outputs": [
    {
     "name": "stdout",
     "output_type": "stream",
     "text": [
      "This DataFrame Contains 246091 rows and 7 columns.\n"
     ]
    },
    {
     "data": {
      "text/html": [
       "<div>\n",
       "<style scoped>\n",
       "    .dataframe tbody tr th:only-of-type {\n",
       "        vertical-align: middle;\n",
       "    }\n",
       "\n",
       "    .dataframe tbody tr th {\n",
       "        vertical-align: top;\n",
       "    }\n",
       "\n",
       "    .dataframe thead th {\n",
       "        text-align: right;\n",
       "    }\n",
       "</style>\n",
       "<table border=\"1\" class=\"dataframe\">\n",
       "  <thead>\n",
       "    <tr style=\"text-align: right;\">\n",
       "      <th></th>\n",
       "      <th>State_Name</th>\n",
       "      <th>District_Name</th>\n",
       "      <th>Crop_Year</th>\n",
       "      <th>Season</th>\n",
       "      <th>Crop</th>\n",
       "      <th>Area</th>\n",
       "      <th>Production</th>\n",
       "    </tr>\n",
       "  </thead>\n",
       "  <tbody>\n",
       "    <tr>\n",
       "      <th>0</th>\n",
       "      <td>Andaman and Nicobar Islands</td>\n",
       "      <td>NICOBARS</td>\n",
       "      <td>2000</td>\n",
       "      <td>Kharif</td>\n",
       "      <td>Arecanut</td>\n",
       "      <td>1254.0</td>\n",
       "      <td>2000.0</td>\n",
       "    </tr>\n",
       "    <tr>\n",
       "      <th>1</th>\n",
       "      <td>Andaman and Nicobar Islands</td>\n",
       "      <td>NICOBARS</td>\n",
       "      <td>2000</td>\n",
       "      <td>Kharif</td>\n",
       "      <td>Other Kharif pulses</td>\n",
       "      <td>2.0</td>\n",
       "      <td>1.0</td>\n",
       "    </tr>\n",
       "    <tr>\n",
       "      <th>2</th>\n",
       "      <td>Andaman and Nicobar Islands</td>\n",
       "      <td>NICOBARS</td>\n",
       "      <td>2000</td>\n",
       "      <td>Kharif</td>\n",
       "      <td>Rice</td>\n",
       "      <td>102.0</td>\n",
       "      <td>321.0</td>\n",
       "    </tr>\n",
       "    <tr>\n",
       "      <th>3</th>\n",
       "      <td>Andaman and Nicobar Islands</td>\n",
       "      <td>NICOBARS</td>\n",
       "      <td>2000</td>\n",
       "      <td>Whole Year</td>\n",
       "      <td>Banana</td>\n",
       "      <td>176.0</td>\n",
       "      <td>641.0</td>\n",
       "    </tr>\n",
       "    <tr>\n",
       "      <th>4</th>\n",
       "      <td>Andaman and Nicobar Islands</td>\n",
       "      <td>NICOBARS</td>\n",
       "      <td>2000</td>\n",
       "      <td>Whole Year</td>\n",
       "      <td>Cashewnut</td>\n",
       "      <td>720.0</td>\n",
       "      <td>165.0</td>\n",
       "    </tr>\n",
       "  </tbody>\n",
       "</table>\n",
       "</div>"
      ],
      "text/plain": [
       "                    State_Name District_Name  Crop_Year       Season  \\\n",
       "0  Andaman and Nicobar Islands      NICOBARS       2000  Kharif        \n",
       "1  Andaman and Nicobar Islands      NICOBARS       2000  Kharif        \n",
       "2  Andaman and Nicobar Islands      NICOBARS       2000  Kharif        \n",
       "3  Andaman and Nicobar Islands      NICOBARS       2000  Whole Year    \n",
       "4  Andaman and Nicobar Islands      NICOBARS       2000  Whole Year    \n",
       "\n",
       "                  Crop    Area  Production  \n",
       "0             Arecanut  1254.0      2000.0  \n",
       "1  Other Kharif pulses     2.0         1.0  \n",
       "2                 Rice   102.0       321.0  \n",
       "3               Banana   176.0       641.0  \n",
       "4            Cashewnut   720.0       165.0  "
      ]
     },
     "execution_count": 3,
     "metadata": {},
     "output_type": "execute_result"
    }
   ],
   "source": [
    "df = pd.read_csv('crop_production.csv')\n",
    "sh = df.shape\n",
    "print('This DataFrame Contains {} rows and {} columns.'.format(sh[0], sh[1]))\n",
    "df.head()"
   ]
  },
  {
   "cell_type": "markdown",
   "metadata": {},
   "source": [
    "### 3. Choose the crops for analysing:\n",
    "    Only Crops that are available in the dataset are listed below. Choose upto 5 crops. You can see your choices in the next cell.\n",
    "   (**Recomend to select one crop at a time.**)"
   ]
  },
  {
   "cell_type": "code",
   "execution_count": 4,
   "metadata": {},
   "outputs": [
    {
     "name": "stdout",
     "output_type": "stream",
     "text": [
      "Please select as few as possible(Maximum 5) to get faster and perfect view!\n"
     ]
    },
    {
     "data": {
      "application/vnd.jupyter.widget-view+json": {
       "model_id": "e6d2e35411aa462cada7f5c5fefd4dbb",
       "version_major": 2,
       "version_minor": 0
      },
      "text/plain": [
       "SelectMultiple(description='Select Crop: ', index=(95,), options=('Apple', 'Arcanut (Processed)', 'Arecanut', …"
      ]
     },
     "metadata": {},
     "output_type": "display_data"
    }
   ],
   "source": [
    "opt_crop = sorted([i for i in set(df['Crop'])]) #list the crops that are available in the dataset\n",
    "print('Please select as few as possible(Maximum 5) to get faster and perfect view!')\n",
    "x = widgets.SelectMultiple(\n",
    "    options=opt_crop,\n",
    "    value=['Rice'],\n",
    "    rows=10,\n",
    "    description='Select Crop: ',\n",
    "    disabled=False,\n",
    ")\n",
    "display(x)"
   ]
  },
  {
   "cell_type": "code",
   "execution_count": 5,
   "metadata": {},
   "outputs": [
    {
     "name": "stdout",
     "output_type": "stream",
     "text": [
      "Your Selections:  Rice\n"
     ]
    }
   ],
   "source": [
    "crops = x.value\n",
    "print('Your Selections: ', ', '.join(map(str, crops)))"
   ]
  },
  {
   "cell_type": "markdown",
   "metadata": {},
   "source": [
    "### 4. Choose the Years for which data to be analysed:\n",
    "    Only Years that are available in the dataset are listed below. Choose minimum 5. You can see your choices in the next cell. You can leave with default, It will select 2006 to 2015 autometically.\n",
    "   (**Recomend to select 10 years at a time.**)"
   ]
  },
  {
   "cell_type": "code",
   "execution_count": 6,
   "metadata": {},
   "outputs": [
    {
     "name": "stdout",
     "output_type": "stream",
     "text": [
      "Please select as few as possible to get faster view!\n"
     ]
    },
    {
     "data": {
      "application/vnd.jupyter.widget-view+json": {
       "model_id": "e2ab2c97160e439bbe0fbe4bdd099a9b",
       "version_major": 2,
       "version_minor": 0
      },
      "text/plain": [
       "SelectMultiple(description='Select Year: ', index=(9, 10, 11, 12, 13, 14, 15, 16, 17, 18), options=(1997, 1998…"
      ]
     },
     "metadata": {},
     "output_type": "display_data"
    }
   ],
   "source": [
    "opt_year = [i for i in range(1997, 2016)]\n",
    "print('Please select as few as possible to get faster view!')\n",
    "y = widgets.SelectMultiple(\n",
    "    options = opt_year,\n",
    "    value=[i for i in range(2006,2016)],\n",
    "    rows=10,\n",
    "    description='Select Year: ',\n",
    "    disabled=False,\n",
    ")\n",
    "display(y)"
   ]
  },
  {
   "cell_type": "code",
   "execution_count": 7,
   "metadata": {},
   "outputs": [
    {
     "name": "stdout",
     "output_type": "stream",
     "text": [
      "Your Selections:  2006, 2007, 2008, 2009, 2010, 2011, 2012, 2013, 2014, 2015\n"
     ]
    }
   ],
   "source": [
    "years = y.value\n",
    "print('Your Selections: ', ', '.join(map(str, years)))"
   ]
  },
  {
   "cell_type": "markdown",
   "metadata": {},
   "source": [
    "### 5. Choose the Season to be analysed:\n",
    "    Only Seasons that are available in the dataset are listed below. Choose any no of seasons. You can see your choices in the next cell. You can leave with default, It will select all the seasons autometically.\n",
    "   (**Recomend to select all to get full data.**)"
   ]
  },
  {
   "cell_type": "code",
   "execution_count": 8,
   "metadata": {},
   "outputs": [
    {
     "name": "stdout",
     "output_type": "stream",
     "text": [
      "Please select as few as possible to get faster view!\n"
     ]
    },
    {
     "data": {
      "application/vnd.jupyter.widget-view+json": {
       "model_id": "33d7fe37849f4e56a6c0d481a96e5455",
       "version_major": 2,
       "version_minor": 0
      },
      "text/plain": [
       "SelectMultiple(description='Select Season: ', index=(0, 1, 2, 3, 4, 5), options=('Summer     ', 'Winter     ',…"
      ]
     },
     "metadata": {},
     "output_type": "display_data"
    }
   ],
   "source": [
    "opt_ses = [i for i in set(df['Season'])]\n",
    "print('Please select as few as possible to get faster view!')\n",
    "z = widgets.SelectMultiple(\n",
    "    options = opt_ses,\n",
    "    value=['Summer     ', 'Winter     ', 'Whole Year ', 'Rabi       ', 'Autumn     ', 'Kharif     '],\n",
    "    rows=6,\n",
    "    description='Select Season: ',\n",
    "    disabled=False,\n",
    ")\n",
    "display(z)"
   ]
  },
  {
   "cell_type": "code",
   "execution_count": 9,
   "metadata": {},
   "outputs": [
    {
     "name": "stdout",
     "output_type": "stream",
     "text": [
      "Your Selections:  Summer, Winter, Whole Year, Rabi, Autumn, Kharif\n"
     ]
    }
   ],
   "source": [
    "seasons = z.value\n",
    "print('Your Selections: ', ', '.join(map(str, [i.strip() for i in seasons])))"
   ]
  },
  {
   "cell_type": "markdown",
   "metadata": {},
   "source": [
    "***\n",
    "## **B. Prepare required dataframe for Analyzing data:**\n",
    "### 1. create a new dataframe based on the previous selections."
   ]
  },
  {
   "cell_type": "code",
   "execution_count": 10,
   "metadata": {},
   "outputs": [
    {
     "data": {
      "text/html": [
       "<div>\n",
       "<style scoped>\n",
       "    .dataframe tbody tr th:only-of-type {\n",
       "        vertical-align: middle;\n",
       "    }\n",
       "\n",
       "    .dataframe tbody tr th {\n",
       "        vertical-align: top;\n",
       "    }\n",
       "\n",
       "    .dataframe thead th {\n",
       "        text-align: right;\n",
       "    }\n",
       "</style>\n",
       "<table border=\"1\" class=\"dataframe\">\n",
       "  <thead>\n",
       "    <tr style=\"text-align: right;\">\n",
       "      <th></th>\n",
       "      <th>State_Name</th>\n",
       "      <th>District_Name</th>\n",
       "      <th>Latitude</th>\n",
       "      <th>Longitude</th>\n",
       "      <th>2006</th>\n",
       "      <th>2007</th>\n",
       "      <th>2008</th>\n",
       "      <th>2009</th>\n",
       "      <th>2010</th>\n",
       "      <th>2011</th>\n",
       "      <th>...</th>\n",
       "      <th>2014</th>\n",
       "      <th>2015</th>\n",
       "      <th>Summer</th>\n",
       "      <th>Winter</th>\n",
       "      <th>Whole Year</th>\n",
       "      <th>Rabi</th>\n",
       "      <th>Autumn</th>\n",
       "      <th>Kharif</th>\n",
       "      <th>Crop</th>\n",
       "      <th>Production</th>\n",
       "    </tr>\n",
       "  </thead>\n",
       "  <tbody>\n",
       "  </tbody>\n",
       "</table>\n",
       "<p>0 rows × 22 columns</p>\n",
       "</div>"
      ],
      "text/plain": [
       "Empty DataFrame\n",
       "Columns: [State_Name, District_Name, Latitude, Longitude, 2006, 2007, 2008, 2009, 2010, 2011, 2012, 2013, 2014, 2015, Summer     , Winter     , Whole Year , Rabi       , Autumn     , Kharif     , Crop, Production]\n",
       "Index: []\n",
       "\n",
       "[0 rows x 22 columns]"
      ]
     },
     "execution_count": 10,
     "metadata": {},
     "output_type": "execute_result"
    }
   ],
   "source": [
    "df2 = pd.DataFrame(columns=['State_Name', 'District_Name', 'Latitude', 'Longitude']\n",
    "                   +[i for i in years]\n",
    "                   +[i for i in seasons]\n",
    "                   +['Crop', 'Production'])\n",
    "df2"
   ]
  },
  {
   "cell_type": "markdown",
   "metadata": {},
   "source": [
    "### 2. Define a function to retrive location data using geocoders:"
   ]
  },
  {
   "cell_type": "code",
   "execution_count": 11,
   "metadata": {},
   "outputs": [],
   "source": [
    "#define function to retrive location data of a given dist, state.\n",
    "def get_loc(dist, state):\n",
    "    address = '{}, {}'.format(dist, state)\n",
    "    geolocator = Nominatim(user_agent=\"ny_explorer\")\n",
    "    location = geolocator.geocode(address)\n",
    "    if location is None: #check if the location is available for the given district and state\n",
    "        locationd = geolocator.geocode(dist)\n",
    "        locations = geolocator.geocode(state)\n",
    "        if locationd is None: #check if the district location is available\n",
    "            location = locations\n",
    "        elif (abs(locations.latitude-locationd.latitude)>10) or (abs(locations.longitude-locationd.longitude)>10):\n",
    "            location = locations\n",
    "        else:\n",
    "            location = locationd\n",
    "    return location \n"
   ]
  },
  {
   "cell_type": "markdown",
   "metadata": {},
   "source": [
    "### 3. Insert datas into the newly created required Dataframe:"
   ]
  },
  {
   "cell_type": "code",
   "execution_count": null,
   "metadata": {},
   "outputs": [],
   "source": [
    "dist = df['District_Name'][0] #initialize with the very first district\n",
    "state = df['State_Name'][0] #initialize with the very first state\n",
    "location = get_loc(dist, state) #retrive and initialize the very first location\n",
    "lat = location.latitude\n",
    "long = location.longitude\n",
    "\n",
    "for tup in list(zip(df['District_Name'], \n",
    "                    df['State_Name'], \n",
    "                    df['Crop_Year'], \n",
    "                    df['Season'], \n",
    "                    df['Crop'], \n",
    "                    df['Area'], \n",
    "                    df['Production'])):#zip the required column of the main dataframe\n",
    "    \n",
    "    if tup[0] != dist: #to avoid repetative fetching of location check when required\n",
    "        dist = tup[0]\n",
    "        state = tup[1]\n",
    "        location = get_loc(dist, state)\n",
    "        lat = location.latitude\n",
    "        long = location.longitude\n",
    "        \n",
    "    if (tup[2] in years) and (tup[3] in seasons) and (tup[4] in crops): #take datas only for selected parameters\n",
    "        df2 = df2.append({'State_Name': state, \n",
    "                          'District_Name': dist, \n",
    "                          'Latitude': lat, \n",
    "                          'Longitude': long, \n",
    "                          tup[2]: True, \n",
    "                          tup[3]: True, \n",
    "                          'Crop': tup[4], \n",
    "                          'Production': tup[6]}, ignore_index=True)\n",
    "\n",
    "sh1 = df.shape\n",
    "print('This DataFrame is loaded with {} rows and {} columns.'.format(sh1[0], sh1[1]))\n",
    "df2.head()"
   ]
  },
  {
   "cell_type": "markdown",
   "metadata": {},
   "source": [
    "### 4. Calculate the required parameters using numpy:"
   ]
  },
  {
   "cell_type": "code",
   "execution_count": null,
   "metadata": {},
   "outputs": [],
   "source": [
    "mean = np.mean(df2['Production']) #get the mean Production amount\n",
    "mini = int(np.min(df2['Production'])) #get the minimum Production amount\n",
    "maxi = int(np.max(df2['Production'])) #get the maximum Production amount\n",
    "print('Mean_Production=',mean, '\\nMinimum_Production=',mini, '\\nMaximum_Production=',maxi)\n",
    "df2.describe() #get full description of the dataset"
   ]
  },
  {
   "cell_type": "markdown",
   "metadata": {},
   "source": [
    "***\n",
    "## **C. Analyse and map all the datapoints using Folium library:**\n",
    "### 1. Get the location coordinates of India"
   ]
  },
  {
   "cell_type": "code",
   "execution_count": null,
   "metadata": {},
   "outputs": [],
   "source": [
    "address = 'India'\n",
    "\n",
    "geolocator = Nominatim(user_agent=\"ny_explorer\")\n",
    "location = geolocator.geocode(address)\n",
    "latitude = location.latitude\n",
    "longitude = location.longitude\n",
    "\n",
    "print('The geograpical coordinate of India are {}, {}.'.format(latitude, longitude))"
   ]
  },
  {
   "cell_type": "markdown",
   "metadata": {},
   "source": [
    "### 2. Define a function to select the color for the different selected crops:"
   ]
  },
  {
   "cell_type": "code",
   "execution_count": null,
   "metadata": {},
   "outputs": [],
   "source": [
    "def color_selection(cr):\n",
    "    try:\n",
    "        if cr == crops[0]:\n",
    "            return ['black', '#566573']\n",
    "        \n",
    "        if cr == crops[1]:\n",
    "            return ['blue', '#5dade2']\n",
    "                \n",
    "        if cr == crops[2]:\n",
    "            return ['green', '#82e0aa']\n",
    "            \n",
    "        if cr == crops[3]:\n",
    "            return ['white', '#fdfefe']\n",
    "        \n",
    "        if cr == crops[4]:\n",
    "            return ['yellow', '#f9e79f']            \n",
    "    except:\n",
    "        return ['red', '#f5b7b1']"
   ]
  },
  {
   "cell_type": "markdown",
   "metadata": {},
   "source": [
    "### 3. Select the Circle radius multiplier:\n",
    "    You can leave it default to keep maximum radious 40."
   ]
  },
  {
   "cell_type": "code",
   "execution_count": null,
   "metadata": {},
   "outputs": [],
   "source": [
    "print('Select Circle Radius Multiplier')\n",
    "mul = widgets.FloatSlider(value=40*mean/maxi,\n",
    "                               min=0.5,\n",
    "                               max=10.0,\n",
    "                               step=0.5,\n",
    "                               description='Select Multiplier:',\n",
    "                               disabled=False,\n",
    "                               continuous_update=False,\n",
    "                               orientation='horizontal',\n",
    "                               readout=True,\n",
    "                               readout_format='.1f')\n",
    "mul"
   ]
  },
  {
   "cell_type": "code",
   "execution_count": null,
   "metadata": {},
   "outputs": [],
   "source": [
    "multiplier=mul.value\n",
    "multiplier"
   ]
  },
  {
   "cell_type": "markdown",
   "metadata": {},
   "source": [
    "### 4. Mark the locations in the India map as per the production quantity:\n",
    "    After this step all the selected datas will be pointed on map. Hope you can easily visualize all the clusters. To avoid conflicts ignoring autometic clustering."
   ]
  },
  {
   "cell_type": "code",
   "execution_count": null,
   "metadata": {},
   "outputs": [],
   "source": [
    "color_list = ['Black', 'Blue', 'Green', 'White', 'Yellow', 'Red']\n",
    "print('''Color codes:\n",
    "___________\\n''') #Introduce the colors assigned for different crops\n",
    "for i in range(len(crops)):\n",
    "    try:\n",
    "        print(crops[i],': ', color_list[i])\n",
    "    except:\n",
    "        print(crops[i],': ', color_list[5])\n",
    "rad = 'Circle Radious: Min={a}, Max={b}'.format(b=maxi//int(mean)*multiplier, a=mini//int(mean)*multiplier)\n",
    "\n",
    "for i in years:\n",
    "    cap = '{} Production Data of {}. {}'.format(', '.join(map(str, crops)), i, rad)\n",
    "    print('\\n',cap)\n",
    "    index = [mini, maxi*.10, maxi*.30, maxi*.60, maxi] #required for labeling\n",
    "    \n",
    "    map_india = folium.Map(location=[latitude, longitude], \n",
    "                           zoom_start=4, \n",
    "                           width = 500, \n",
    "                           height = 500, \n",
    "                           max_bounds=True) \n",
    "                           #tiles='Stamen Terrain') #create a map with fetched coordinates of India\n",
    "\n",
    "    # add markers to map\n",
    "    for lat, lng, state, dist, st, cr, pr in zip(df2['Latitude'], \n",
    "                                                 df2['Longitude'], \n",
    "                                                 df2['State_Name'], \n",
    "                                                 df2['District_Name'], \n",
    "                                                 df2[i], \n",
    "                                                 df2['Crop'], \n",
    "                                                 df2['Production']):\n",
    "        \n",
    "        if st == True:\n",
    "            col = color_selection(cr)\n",
    "            label = '{}({}), {}, {}'.format(cr, pr, dist, state) #label all the datapoints\n",
    "            label = folium.Popup(label, parse_html=True)\n",
    "            folium.CircleMarker(location=[lat, lng], \n",
    "                                radius=(pr/mean*multiplier), \n",
    "                                popup=label, \n",
    "                                color=col[0], \n",
    "                                fill=True, \n",
    "                                fill_color=col[1], \n",
    "                                fill_opacity=0.5, \n",
    "                                parse_html=False).add_to(map_india) #mark the points on the map\n",
    "            \n",
    "    #specify the min and max values of your data YlOrRd_09\n",
    "    colormap = cl.linear.Blues_09.scale(mini, maxi)\n",
    "    colormap = colormap.to_step(index=index)\n",
    "    colormap.caption = cap\n",
    "    colormap.add_to(map_india) #add lagend to show caption and varition of data range.\n",
    "\n",
    "    display(map_india)"
   ]
  },
  {
   "cell_type": "markdown",
   "metadata": {},
   "source": [
    "### **Sample Map**\n",
    "![image.png](sample_map.png)"
   ]
  },
  {
   "cell_type": "markdown",
   "metadata": {},
   "source": [
    "***\n",
    "## **D. Observe the Yearly Production Trends(State Wise):**\n",
    "   **Note: Ignore 2015 data as it seems to be incomplete**"
   ]
  },
  {
   "cell_type": "markdown",
   "metadata": {},
   "source": [
    "### 1. Choose the State for which Production Trends to be visualize:\n",
    "    Only states that are available in the dataset are listed below. Choose any no of states. You can see your choices in the next cell. You can leave with default, It will select the state with maximum production autometically.\n",
    "   (**Recomend to select after observing map clusters properly.**)"
   ]
  },
  {
   "cell_type": "code",
   "execution_count": null,
   "metadata": {},
   "outputs": [],
   "source": [
    "opt_state = sorted([i for i in set(df['State_Name'])])\n",
    "print('Please select as few as possible to get faster and perfect view!')\n",
    "p = widgets.SelectMultiple(\n",
    "    options=opt_state,\n",
    "    value=[df2.loc[df2.index[df2['Production']==maxi].tolist()[0]].State_Name],\n",
    "    rows=10,\n",
    "    description='Select State: ',\n",
    "    disabled=False,\n",
    ")\n",
    "display(p)"
   ]
  },
  {
   "cell_type": "code",
   "execution_count": null,
   "metadata": {},
   "outputs": [],
   "source": [
    "states = p.value\n",
    "print('Your Selections: ', ', '.join(map(str, states)))"
   ]
  },
  {
   "cell_type": "markdown",
   "metadata": {},
   "source": [
    "### 2. Choose the Crops for which Production Trends to be visualize:\n",
    "    Only crops that are available in the dataset are listed below. Choose any no of crops. You can see your choices in the next cell. You can leave with default, It will select the previously selected crops autometically.\n",
    "   (**Recomended to select one at a time.**)"
   ]
  },
  {
   "cell_type": "code",
   "execution_count": null,
   "metadata": {},
   "outputs": [],
   "source": [
    "opt_crops = sorted([i for i in set(df['Crop'])])\n",
    "print('Please select as few as possible to get faster and perfect view!')\n",
    "oc = widgets.SelectMultiple(\n",
    "    options=opt_crops,\n",
    "    value=[i for i in crops],\n",
    "    rows=10,\n",
    "    description='Select Crop: ',\n",
    "    disabled=False,)\n",
    "display(oc)"
   ]
  },
  {
   "cell_type": "code",
   "execution_count": null,
   "metadata": {},
   "outputs": [],
   "source": [
    "opted_crops = oc.value\n",
    "print('Your Selections: ', ', '.join(map(str, opted_crops)))"
   ]
  },
  {
   "cell_type": "markdown",
   "metadata": {},
   "source": [
    "### 3. Define functions for different plots with different libraries:"
   ]
  },
  {
   "cell_type": "code",
   "execution_count": null,
   "metadata": {},
   "outputs": [],
   "source": [
    "def plot_with_seaborn(df_var,x_var,y_var):\n",
    "    try:\n",
    "        plt.figure(figsize=(12, 4))\n",
    "        sns.set(font_scale=1.5)\n",
    "        sns.set_style('whitegrid')\n",
    "        ax = sns.regplot(x=x_var, \n",
    "                         y=y_var, \n",
    "                         data=df_var, \n",
    "                         color='green', \n",
    "                         marker='+',  \n",
    "                         scatter_kws={'s': 200})\n",
    "        ax.set(xlabel=x_var, ylabel=y_var)\n",
    "        ax.set_title('Trends of {} {} of {} from 1997 to 2014.'.format(j,y_var.split('_')[1],i))\n",
    "        print('Trends of {} {} of {} from 1997 to 2014.'.format(j,y_var.split('_')[1],i))\n",
    "    except:\n",
    "        print('Unable to find Trends of {} {} of {} from 1997 to 2014.'.format(j,y_var.split('_')[1],i))\n",
    "        pass\n",
    "    \n",
    "    \n",
    "def bar_plot(df_var, x_var):\n",
    "    df_var = df_var[['Crop_Year','Total_Production','Total_Area']]\n",
    "    ax = df_var.plot(kind='bar',\n",
    "                     figsize=(12, 4), \n",
    "                     width=0.8, \n",
    "                     color=['#5cb85c','#5bc0de'], \n",
    "                     title='Trends of {} Area vs. Production of {} from 1997 to 2014.'.format(j,i))\n",
    "    ax.set_xticks(range(len(df_var)))\n",
    "    ax.set_xlabel(x_var)\n",
    "    ax.set_xticklabels([int(i) for i in df_var[x_var]]);\n",
    "    \n",
    "    \n",
    "def scatter_plot_with_pyplot(df):\n",
    "    plt.scatter(df_var[x_var], df_var[y_var])\n",
    "    plt.show()"
   ]
  },
  {
   "cell_type": "markdown",
   "metadata": {},
   "source": [
    "### 4. Final Step: Processed the data and extract required then plot to visualize:\n",
    "    In this project I only show 4 plots for each selected crops. \n",
    "   * Crop_Year vs. Total_Production Trends with seaborn.\n",
    "   * Crop_Year vs. Total_Area Trends with seaborn.\n",
    "   * Crop_Year vs. Total_Production/Area Trends with seaborn.\n",
    "   * Barplot of Production and Area with respect to Crop_Year."
   ]
  },
  {
   "cell_type": "code",
   "execution_count": null,
   "metadata": {},
   "outputs": [],
   "source": [
    "for i in states: #process for all selected states\n",
    "    temp_df = None\n",
    "    temp_df = df[df.State_Name==i]\n",
    "    temp_df.drop(['Season'], axis = 1, inplace = True)\n",
    "    for j in opted_crops: #process for all selected crops under each state\n",
    "        new_df = temp_df[['Crop_Year','Production','Area']][temp_df.Crop==j]\n",
    "        final_df = pd.DataFrame(columns=['Crop_Year','Total_Production','Total_Area','Total_Production/Area'])\n",
    "        for k in range(1997,2015): #make temporarily required dataframe\n",
    "            try:\n",
    "                total_prod = sum(new_df['Production'][new_df.Crop_Year==k])\n",
    "                total_area = sum(new_df['Area'][new_df.Crop_Year==k])\n",
    "                prod_per_area = total_prod/total_area\n",
    "            except:\n",
    "                total_prod = 0\n",
    "                total_area = 0\n",
    "                Production_per_Area = 0\n",
    "            final_df = final_df.append({'Crop_Year': k, \n",
    "                                        'Total_Production': total_prod, \n",
    "                                        'Total_Area': total_area, \n",
    "                                        'Total_Production/Area': prod_per_area}, ignore_index=True)\n",
    "        #print(final_df)\n",
    "        \n",
    "        plot_with_seaborn(final_df, 'Crop_Year', 'Total_Production')\n",
    "        plot_with_seaborn(final_df, 'Crop_Year', 'Total_Area')\n",
    "        plot_with_seaborn(final_df, 'Crop_Year', 'Total_Production/Area')\n",
    "        bar_plot(final_df, 'Crop_Year')\n",
    "        #scatter_plot_with_pyplot(final_df)\n",
    "    "
   ]
  },
  {
   "cell_type": "markdown",
   "metadata": {},
   "source": [
    "***\n",
    "# \n",
    "# <center>**END**</center>"
   ]
  }
 ],
 "metadata": {
  "kernelspec": {
   "display_name": "Python",
   "language": "python",
   "name": "conda-env-python-py"
  },
  "language_info": {
   "codemirror_mode": {
    "name": "ipython",
    "version": 3
   },
   "file_extension": ".py",
   "mimetype": "text/x-python",
   "name": "python",
   "nbconvert_exporter": "python",
   "pygments_lexer": "ipython3",
   "version": "3.6.10"
  }
 },
 "nbformat": 4,
 "nbformat_minor": 4
}
